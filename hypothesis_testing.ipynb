{
 "cells": [
  {
   "cell_type": "markdown",
   "metadata": {},
   "source": [
    "Do your work for this exercise in a jupyter notebook named hypothesis_testing.ipynb.\n",
    "\n",
    "For each of the following questions, formulate a null and alternative hypothesis (be as specific as you can be), then give an example of what a true positive, true negative, type I and type II errors would look like.\n",
    "\n",
    "Is the website redesign any good?\n",
    "\n",
    "- H<sub>0</sub>: Web traffic after the redesign did not increase.\n",
    "    \n",
    "- H<sub>a</sub>: Web traffic after the redesign increased.\n",
    "\n",
    "- Type I error: We conclude that the redesign increased web traffic, when in reality our sample just had abnormally high traffic.\n",
    "\n",
    "- Type II error: We conclude that the redesign did not increase web traffic, but actually, our sample just had abnormally low traffic. \n",
    "\n",
    "Is our television ad driving more sales?\n",
    "\n",
    "- H<sub>0</sub>: Sales did not increase after the ad aired.\n",
    "    \n",
    "- H<sub>a</sub>: Sales increased after the ad aired.\n",
    "\n",
    "- Type I error: We conclude that sales increased after the ad aired, when our sample just happened to have abnormally high sales, unimpacted by the ad.\n",
    "\n",
    "- Type II error: We conclude that sales did not increase after the ad aired, when our sample actually just had abnormally low sales, despite the ad's impact.\n",
    "\n",
    "Has the network latency gone up since we switched internet service providers?\n",
    "\n",
    "- H<sub>0</sub>: Since we changed ISPs, network latency has not gone up.\n",
    "    \n",
    "- H<sub>a</sub>: Since we changed ISPs, network latency has gone up.\n",
    "\n",
    "- Type I error: We find that our ISP switch increased network latency, but our sample actually just had abnormally high network latency, despite the switch's negligible impact.\n",
    "\n",
    "- Type II error: We find that our ISP switch did not increase network latency, but our sample actually just had abnormally low network latency despite the significant impact of the ISP switch."
   ]
  },
  {
   "cell_type": "code",
   "execution_count": null,
   "metadata": {},
   "outputs": [],
   "source": []
  },
  {
   "cell_type": "code",
   "execution_count": null,
   "metadata": {},
   "outputs": [],
   "source": []
  }
 ],
 "metadata": {
  "kernelspec": {
   "display_name": "Python 3",
   "language": "python",
   "name": "python3"
  },
  "language_info": {
   "codemirror_mode": {
    "name": "ipython",
    "version": 3
   },
   "file_extension": ".py",
   "mimetype": "text/x-python",
   "name": "python",
   "nbconvert_exporter": "python",
   "pygments_lexer": "ipython3",
   "version": "3.7.3"
  }
 },
 "nbformat": 4,
 "nbformat_minor": 2
}
